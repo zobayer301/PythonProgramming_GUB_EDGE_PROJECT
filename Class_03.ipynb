{
  "nbformat": 4,
  "nbformat_minor": 0,
  "metadata": {
    "colab": {
      "provenance": [],
      "authorship_tag": "ABX9TyMZguXTpgfP1ebh2QId4mW9",
      "include_colab_link": true
    },
    "kernelspec": {
      "name": "python3",
      "display_name": "Python 3"
    },
    "language_info": {
      "name": "python"
    }
  },
  "cells": [
    {
      "cell_type": "markdown",
      "metadata": {
        "id": "view-in-github",
        "colab_type": "text"
      },
      "source": [
        "<a href=\"https://colab.research.google.com/github/zobayer301/PythonProgramming_GUB_EDGE_PROJECT/blob/main/Class_03.ipynb\" target=\"_parent\"><img src=\"https://colab.research.google.com/assets/colab-badge.svg\" alt=\"Open In Colab\"/></a>"
      ]
    },
    {
      "cell_type": "code",
      "execution_count": null,
      "metadata": {
        "id": "THKJ4n0nCH84"
      },
      "outputs": [],
      "source": []
    },
    {
      "cell_type": "markdown",
      "source": [
        "Dictionary Methods\n",
        "Dictionary uses several built-in methods for manipulation.They are listed below\n",
        "\n",
        "update()\n",
        "The update() method updates the value of the key provided to it if the item already exists in the dictionary, else it creates a new key-value pair.\n",
        "\n",
        "Example:\n"
      ],
      "metadata": {
        "id": "RMsJwLHsGOHQ"
      }
    },
    {
      "cell_type": "code",
      "source": [
        "info = {'name':'Karan', 'age':19, 'eligible':True}\n",
        "print(info)\n",
        "info.update({'age':20})\n",
        "info.update({'DOB':2001})\n",
        "print(info)"
      ],
      "metadata": {
        "id": "fhlJOHGLGZ2s",
        "colab": {
          "base_uri": "https://localhost:8080/"
        },
        "outputId": "d8738836-e20e-4225-c032-eaa98c05fc70"
      },
      "execution_count": null,
      "outputs": [
        {
          "output_type": "stream",
          "name": "stdout",
          "text": [
            "{'name': 'Karan', 'age': 19, 'eligible': True}\n",
            "{'name': 'Karan', 'age': 20, 'eligible': True, 'DOB': 2001}\n"
          ]
        }
      ]
    },
    {
      "cell_type": "code",
      "source": [
        "#convertingStringTOObject\n",
        "site_string = \"Jafricode.com\"\n",
        "byte = bytes(site_string, 'utf-8')\n",
        "print(byte)"
      ],
      "metadata": {
        "colab": {
          "base_uri": "https://localhost:8080/"
        },
        "id": "l9lhopFJGlf2",
        "outputId": "ca2dab69-588f-40b6-b527-d023664e491c"
      },
      "execution_count": null,
      "outputs": [
        {
          "output_type": "stream",
          "name": "stdout",
          "text": [
            "b'Jafricode.com'\n"
          ]
        }
      ]
    },
    {
      "cell_type": "code",
      "source": [
        "num = 3\n",
        "ans = bytes(num)\n",
        "print(ans)"
      ],
      "metadata": {
        "colab": {
          "base_uri": "https://localhost:8080/"
        },
        "id": "BZ_ltFoXJa9A",
        "outputId": "99a71ba8-6fe3-43be-e42b-395e8abbde16"
      },
      "execution_count": null,
      "outputs": [
        {
          "output_type": "stream",
          "name": "stdout",
          "text": [
            "b'\\x00\\x00\\x00'\n"
          ]
        }
      ]
    },
    {
      "cell_type": "code",
      "source": [
        "#Implicit type conversion\n",
        "v1 = 3\n",
        "print(type(v1))\n",
        "\n",
        "v1 = v1+4.4\n",
        "print(type(v1))"
      ],
      "metadata": {
        "colab": {
          "base_uri": "https://localhost:8080/"
        },
        "id": "4AG8CbkmJ87u",
        "outputId": "97b1a666-99fe-438c-8ada-806f632846cf"
      },
      "execution_count": null,
      "outputs": [
        {
          "output_type": "stream",
          "name": "stdout",
          "text": [
            "<class 'int'>\n",
            "<class 'float'>\n"
          ]
        }
      ]
    },
    {
      "cell_type": "code",
      "source": [
        "#concatenate string with number\n",
        "print('value'+123)"
      ],
      "metadata": {
        "colab": {
          "base_uri": "https://localhost:8080/",
          "height": 159
        },
        "id": "JNw03N_nKrsq",
        "outputId": "6247bfaa-c92c-408d-911b-93db42ddcf6b"
      },
      "execution_count": null,
      "outputs": [
        {
          "output_type": "error",
          "ename": "TypeError",
          "evalue": "can only concatenate str (not \"int\") to str",
          "traceback": [
            "\u001b[0;31m---------------------------------------------------------------------------\u001b[0m",
            "\u001b[0;31mTypeError\u001b[0m                                 Traceback (most recent call last)",
            "\u001b[0;32m<ipython-input-16-9247f1ebcf97>\u001b[0m in \u001b[0;36m<cell line: 2>\u001b[0;34m()\u001b[0m\n\u001b[1;32m      1\u001b[0m \u001b[0;31m#concatenate string with number\u001b[0m\u001b[0;34m\u001b[0m\u001b[0;34m\u001b[0m\u001b[0m\n\u001b[0;32m----> 2\u001b[0;31m \u001b[0mprint\u001b[0m\u001b[0;34m(\u001b[0m\u001b[0;34m'value'\u001b[0m\u001b[0;34m+\u001b[0m\u001b[0;36m123\u001b[0m\u001b[0;34m)\u001b[0m\u001b[0;34m\u001b[0m\u001b[0;34m\u001b[0m\u001b[0m\n\u001b[0m",
            "\u001b[0;31mTypeError\u001b[0m: can only concatenate str (not \"int\") to str"
          ]
        }
      ]
    },
    {
      "cell_type": "code",
      "source": [
        "print('value'+str(123))"
      ],
      "metadata": {
        "colab": {
          "base_uri": "https://localhost:8080/"
        },
        "id": "MpiRxnAGK5ds",
        "outputId": "3a93cba8-a67b-430d-e866-761b36c51706"
      },
      "execution_count": null,
      "outputs": [
        {
          "output_type": "stream",
          "name": "stdout",
          "text": [
            "value123\n"
          ]
        }
      ]
    },
    {
      "cell_type": "code",
      "source": [
        "print('Zobog'+ str(18))"
      ],
      "metadata": {
        "colab": {
          "base_uri": "https://localhost:8080/"
        },
        "id": "P9SfbNyZLBeO",
        "outputId": "7c6a11fd-0bd3-4152-f7d9-f5707380725b"
      },
      "execution_count": null,
      "outputs": [
        {
          "output_type": "stream",
          "name": "stdout",
          "text": [
            "Zobog18\n"
          ]
        }
      ]
    },
    {
      "cell_type": "code",
      "source": [
        "num1 = int(input(\"Enter first number: \"))\n",
        "num2 = int(input(\"Enter second number: \"))\n",
        "num3 = int(input(\"Enter third number: \"))\n",
        "num4 = int(input(\"Enter fourth number: \"))\n",
        "\n",
        "if num1>num2:\n",
        "    print(num1)\n",
        "elif num2>num3:\n",
        "    print(num2)\n",
        "elif num3>num4:\n",
        "    print(num3)\n",
        "else:\n",
        "    print(num4)"
      ],
      "metadata": {
        "colab": {
          "base_uri": "https://localhost:8080/"
        },
        "id": "ZF8V01DranM3",
        "outputId": "bcd1faab-dfa2-4372-80c6-de91ff78bdd5"
      },
      "execution_count": null,
      "outputs": [
        {
          "output_type": "stream",
          "name": "stdout",
          "text": [
            "Enter first number: 3\n",
            "Enter second number: 4\n",
            "Enter third number: 5\n",
            "Enter fourth number: 2\n",
            "5\n"
          ]
        }
      ]
    },
    {
      "cell_type": "code",
      "source": [
        "num1 = int(input(\"Enter first number: \"))\n",
        "num2 = int(input(\"Enter second number: \"))\n",
        "num3 = int(input(\"Enter third number: \"))\n",
        "num4 = int(input(\"Enter fourth number: \"))\n",
        "\n",
        "if num1 > num2 and num1 > num3 and num1 > num4:\n",
        "    print(num1, \"is the greatest\")\n",
        "elif num2 > num1 and num2 > num3 and num2 > num4:\n",
        "    print(num2, \"is the greatest\")\n",
        "elif num3 > num1 and num3 > num2 and num3 > num4:\n",
        "    print(num3, \"is the greatest\")\n",
        "else:\n",
        "    print(num4, \"is the greatest\")"
      ],
      "metadata": {
        "colab": {
          "base_uri": "https://localhost:8080/"
        },
        "id": "nYcWDgrLceCi",
        "outputId": "86e53064-b479-4315-fb0f-e2791e67d35b"
      },
      "execution_count": null,
      "outputs": [
        {
          "output_type": "stream",
          "name": "stdout",
          "text": [
            "Enter first number: 3\n",
            "Enter second number: 2\n",
            "Enter third number: 4\n",
            "Enter fourth number: 5\n",
            "5 is the greatest\n"
          ]
        }
      ]
    }
  ]
}