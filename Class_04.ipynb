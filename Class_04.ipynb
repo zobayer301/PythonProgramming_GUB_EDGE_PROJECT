{
  "nbformat": 4,
  "nbformat_minor": 0,
  "metadata": {
    "colab": {
      "provenance": [],
      "authorship_tag": "ABX9TyNOMnNIrY9jsYVa5CO0Txfs",
      "include_colab_link": true
    },
    "kernelspec": {
      "name": "python3",
      "display_name": "Python 3"
    },
    "language_info": {
      "name": "python"
    }
  },
  "cells": [
    {
      "cell_type": "markdown",
      "metadata": {
        "id": "view-in-github",
        "colab_type": "text"
      },
      "source": [
        "<a href=\"https://colab.research.google.com/github/zobayer301/PythonProgramming_GUB_EDGE_PROJECT/blob/main/Class_04.ipynb\" target=\"_parent\"><img src=\"https://colab.research.google.com/assets/colab-badge.svg\" alt=\"Open In Colab\"/></a>"
      ]
    },
    {
      "cell_type": "code",
      "source": [
        "# prompt: Write a Python Program to get Name from User and Display, the Name\n",
        "# Should Contain 5 Character or Less Than 10 and Name Should Start From ‘a’\n",
        "# Character.\n",
        "\n",
        "def validate_name(name):\n",
        "  if 5 <= len(name) < 10 and name[0].lower() == 'a':\n",
        "    return True\n",
        "  else:\n",
        "    return False\n",
        "\n",
        "user_name = input(\"Enter your name: \")\n",
        "\n",
        "if validate_name(user_name):\n",
        "  print(\"Hello,\", user_name)\n",
        "else:\n",
        "  print(\"Invalid name. Please enter a name that starts with 'a', has 5 to 9 characters.\")"
      ],
      "metadata": {
        "id": "APw3P63X1d8H"
      },
      "execution_count": null,
      "outputs": []
    },
    {
      "cell_type": "code",
      "source": [
        "name = input(\"Enter your name: \")\n",
        "print(name)\n",
        "\n",
        "if 5<=len(name)<10 and name[0].lower()=='a':\n",
        "    print(\"Hello,\",name)\n",
        "else:\n",
        "    print(\"Invalid input\")"
      ],
      "metadata": {
        "colab": {
          "base_uri": "https://localhost:8080/"
        },
        "id": "irlLXZNn2UCY",
        "outputId": "78811095-769d-463b-f73e-8469dba949ee"
      },
      "execution_count": null,
      "outputs": [
        {
          "output_type": "stream",
          "name": "stdout",
          "text": [
            "Enter your name: Abdul\n",
            "Abdul\n",
            "Hello, Abdul\n"
          ]
        }
      ]
    },
    {
      "cell_type": "code",
      "source": [
        "age =int(input(\"Enter your age: \"))\n",
        "\n",
        "marks = int(input(\"Enter your marks: \"))\n",
        "\n",
        "if age>=18 and 90<marks<100:\n",
        "    print(\"Selected\")\n",
        "else:\n",
        "    print(\"You are not Selected\")"
      ],
      "metadata": {
        "colab": {
          "base_uri": "https://localhost:8080/"
        },
        "id": "zHT6Hgpb3UqO",
        "outputId": "35a33d1e-534c-4bdf-ef38-33109f821673"
      },
      "execution_count": null,
      "outputs": [
        {
          "output_type": "stream",
          "name": "stdout",
          "text": [
            "Enter your age: 18\n",
            "Enter your marks: 95\n",
            "Selected\n"
          ]
        }
      ]
    },
    {
      "cell_type": "code",
      "source": [
        "for x in range (20):\n",
        "  print(x)"
      ],
      "metadata": {
        "colab": {
          "base_uri": "https://localhost:8080/"
        },
        "id": "wltr7DR77A6k",
        "outputId": "32459d37-3804-4205-cfac-f55f685fbcd4"
      },
      "execution_count": null,
      "outputs": [
        {
          "output_type": "stream",
          "name": "stdout",
          "text": [
            "0\n",
            "1\n",
            "2\n",
            "3\n",
            "4\n",
            "5\n",
            "6\n",
            "7\n",
            "8\n",
            "9\n",
            "10\n",
            "11\n",
            "12\n",
            "13\n",
            "14\n",
            "15\n",
            "16\n",
            "17\n",
            "18\n",
            "19\n"
          ]
        }
      ]
    },
    {
      "cell_type": "code",
      "source": [
        "for x in range (10,20):\n",
        "  print(x)"
      ],
      "metadata": {
        "colab": {
          "base_uri": "https://localhost:8080/"
        },
        "id": "jp20BAoB7Lbp",
        "outputId": "4b5a308a-cc35-4432-fcbf-07fca29f68f3"
      },
      "execution_count": null,
      "outputs": [
        {
          "output_type": "stream",
          "name": "stdout",
          "text": [
            "10\n",
            "11\n",
            "12\n",
            "13\n",
            "14\n",
            "15\n",
            "16\n",
            "17\n",
            "18\n",
            "19\n"
          ]
        }
      ]
    },
    {
      "cell_type": "code",
      "source": [
        "for x in range (50,0, -1):\n",
        "  if x%2==1:\n",
        "   print(x, \"Exam Time 4.00 PM\")\n",
        "  else:\n",
        "    print(x, \"Exam Time 5.00 PM\")"
      ],
      "metadata": {
        "colab": {
          "base_uri": "https://localhost:8080/"
        },
        "id": "mZz8_E1m7ImY",
        "outputId": "e6fcc3b3-da7f-4733-8ab8-c23145f1dab4"
      },
      "execution_count": null,
      "outputs": [
        {
          "output_type": "stream",
          "name": "stdout",
          "text": [
            "50 Exam Time 5.00 PM\n",
            "49 Exam Time 4.00 PM\n",
            "48 Exam Time 5.00 PM\n",
            "47 Exam Time 4.00 PM\n",
            "46 Exam Time 5.00 PM\n",
            "45 Exam Time 4.00 PM\n",
            "44 Exam Time 5.00 PM\n",
            "43 Exam Time 4.00 PM\n",
            "42 Exam Time 5.00 PM\n",
            "41 Exam Time 4.00 PM\n",
            "40 Exam Time 5.00 PM\n",
            "39 Exam Time 4.00 PM\n",
            "38 Exam Time 5.00 PM\n",
            "37 Exam Time 4.00 PM\n",
            "36 Exam Time 5.00 PM\n",
            "35 Exam Time 4.00 PM\n",
            "34 Exam Time 5.00 PM\n",
            "33 Exam Time 4.00 PM\n",
            "32 Exam Time 5.00 PM\n",
            "31 Exam Time 4.00 PM\n",
            "30 Exam Time 5.00 PM\n",
            "29 Exam Time 4.00 PM\n",
            "28 Exam Time 5.00 PM\n",
            "27 Exam Time 4.00 PM\n",
            "26 Exam Time 5.00 PM\n",
            "25 Exam Time 4.00 PM\n",
            "24 Exam Time 5.00 PM\n",
            "23 Exam Time 4.00 PM\n",
            "22 Exam Time 5.00 PM\n",
            "21 Exam Time 4.00 PM\n",
            "20 Exam Time 5.00 PM\n",
            "19 Exam Time 4.00 PM\n",
            "18 Exam Time 5.00 PM\n",
            "17 Exam Time 4.00 PM\n",
            "16 Exam Time 5.00 PM\n",
            "15 Exam Time 4.00 PM\n",
            "14 Exam Time 5.00 PM\n",
            "13 Exam Time 4.00 PM\n",
            "12 Exam Time 5.00 PM\n",
            "11 Exam Time 4.00 PM\n",
            "10 Exam Time 5.00 PM\n",
            "9 Exam Time 4.00 PM\n",
            "8 Exam Time 5.00 PM\n",
            "7 Exam Time 4.00 PM\n",
            "6 Exam Time 5.00 PM\n",
            "5 Exam Time 4.00 PM\n",
            "4 Exam Time 5.00 PM\n",
            "3 Exam Time 4.00 PM\n",
            "2 Exam Time 5.00 PM\n",
            "1 Exam Time 4.00 PM\n"
          ]
        }
      ]
    },
    {
      "cell_type": "code",
      "source": [
        "i = 100\n",
        "while i >=1:\n",
        "  if i%2==1:\n",
        "    print(i, \"Exam Time 4.00 PM\")\n",
        "  else:\n",
        "    print(i, \"Exam Time 5.00 PM\")\n",
        "\n",
        "  i = i-1"
      ],
      "metadata": {
        "id": "BkHU3A5aDIay",
        "colab": {
          "base_uri": "https://localhost:8080/"
        },
        "outputId": "9e9436c0-e362-4899-e277-d90f7b1b2cf6"
      },
      "execution_count": null,
      "outputs": [
        {
          "output_type": "stream",
          "name": "stdout",
          "text": [
            "100 Exam Time 5.00 PM\n",
            "99 Exam Time 4.00 PM\n",
            "98 Exam Time 5.00 PM\n",
            "97 Exam Time 4.00 PM\n",
            "96 Exam Time 5.00 PM\n",
            "95 Exam Time 4.00 PM\n",
            "94 Exam Time 5.00 PM\n",
            "93 Exam Time 4.00 PM\n",
            "92 Exam Time 5.00 PM\n",
            "91 Exam Time 4.00 PM\n",
            "90 Exam Time 5.00 PM\n",
            "89 Exam Time 4.00 PM\n",
            "88 Exam Time 5.00 PM\n",
            "87 Exam Time 4.00 PM\n",
            "86 Exam Time 5.00 PM\n",
            "85 Exam Time 4.00 PM\n",
            "84 Exam Time 5.00 PM\n",
            "83 Exam Time 4.00 PM\n",
            "82 Exam Time 5.00 PM\n",
            "81 Exam Time 4.00 PM\n",
            "80 Exam Time 5.00 PM\n",
            "79 Exam Time 4.00 PM\n",
            "78 Exam Time 5.00 PM\n",
            "77 Exam Time 4.00 PM\n",
            "76 Exam Time 5.00 PM\n",
            "75 Exam Time 4.00 PM\n",
            "74 Exam Time 5.00 PM\n",
            "73 Exam Time 4.00 PM\n",
            "72 Exam Time 5.00 PM\n",
            "71 Exam Time 4.00 PM\n",
            "70 Exam Time 5.00 PM\n",
            "69 Exam Time 4.00 PM\n",
            "68 Exam Time 5.00 PM\n",
            "67 Exam Time 4.00 PM\n",
            "66 Exam Time 5.00 PM\n",
            "65 Exam Time 4.00 PM\n",
            "64 Exam Time 5.00 PM\n",
            "63 Exam Time 4.00 PM\n",
            "62 Exam Time 5.00 PM\n",
            "61 Exam Time 4.00 PM\n",
            "60 Exam Time 5.00 PM\n",
            "59 Exam Time 4.00 PM\n",
            "58 Exam Time 5.00 PM\n",
            "57 Exam Time 4.00 PM\n",
            "56 Exam Time 5.00 PM\n",
            "55 Exam Time 4.00 PM\n",
            "54 Exam Time 5.00 PM\n",
            "53 Exam Time 4.00 PM\n",
            "52 Exam Time 5.00 PM\n",
            "51 Exam Time 4.00 PM\n",
            "50 Exam Time 5.00 PM\n",
            "49 Exam Time 4.00 PM\n",
            "48 Exam Time 5.00 PM\n",
            "47 Exam Time 4.00 PM\n",
            "46 Exam Time 5.00 PM\n",
            "45 Exam Time 4.00 PM\n",
            "44 Exam Time 5.00 PM\n",
            "43 Exam Time 4.00 PM\n",
            "42 Exam Time 5.00 PM\n",
            "41 Exam Time 4.00 PM\n",
            "40 Exam Time 5.00 PM\n",
            "39 Exam Time 4.00 PM\n",
            "38 Exam Time 5.00 PM\n",
            "37 Exam Time 4.00 PM\n",
            "36 Exam Time 5.00 PM\n",
            "35 Exam Time 4.00 PM\n",
            "34 Exam Time 5.00 PM\n",
            "33 Exam Time 4.00 PM\n",
            "32 Exam Time 5.00 PM\n",
            "31 Exam Time 4.00 PM\n",
            "30 Exam Time 5.00 PM\n",
            "29 Exam Time 4.00 PM\n",
            "28 Exam Time 5.00 PM\n",
            "27 Exam Time 4.00 PM\n",
            "26 Exam Time 5.00 PM\n",
            "25 Exam Time 4.00 PM\n",
            "24 Exam Time 5.00 PM\n",
            "23 Exam Time 4.00 PM\n",
            "22 Exam Time 5.00 PM\n",
            "21 Exam Time 4.00 PM\n",
            "20 Exam Time 5.00 PM\n",
            "19 Exam Time 4.00 PM\n",
            "18 Exam Time 5.00 PM\n",
            "17 Exam Time 4.00 PM\n",
            "16 Exam Time 5.00 PM\n",
            "15 Exam Time 4.00 PM\n",
            "14 Exam Time 5.00 PM\n",
            "13 Exam Time 4.00 PM\n",
            "12 Exam Time 5.00 PM\n",
            "11 Exam Time 4.00 PM\n",
            "10 Exam Time 5.00 PM\n",
            "9 Exam Time 4.00 PM\n",
            "8 Exam Time 5.00 PM\n",
            "7 Exam Time 4.00 PM\n",
            "6 Exam Time 5.00 PM\n",
            "5 Exam Time 4.00 PM\n",
            "4 Exam Time 5.00 PM\n",
            "3 Exam Time 4.00 PM\n",
            "2 Exam Time 5.00 PM\n",
            "1 Exam Time 4.00 PM\n"
          ]
        }
      ]
    },
    {
      "cell_type": "code",
      "source": [
        "num = int (input(\"Enter a number: \"))\n",
        "i = 1\n",
        "while i<=10:\n",
        "  print(num, \"*\", i, \"=\", num*i)\n",
        "  i = i+1"
      ],
      "metadata": {
        "colab": {
          "base_uri": "https://localhost:8080/"
        },
        "id": "L4j6lN4YHZ1N",
        "outputId": "bcc16161-844c-480a-d5b0-394e8939d87b"
      },
      "execution_count": null,
      "outputs": [
        {
          "output_type": "stream",
          "name": "stdout",
          "text": [
            "Enter a number: 10\n",
            "10 * 1 = 10\n",
            "10 * 2 = 20\n",
            "10 * 3 = 30\n",
            "10 * 4 = 40\n",
            "10 * 5 = 50\n",
            "10 * 6 = 60\n",
            "10 * 7 = 70\n",
            "10 * 8 = 80\n",
            "10 * 9 = 90\n",
            "10 * 10 = 100\n"
          ]
        }
      ]
    },
    {
      "cell_type": "code",
      "source": [
        "start = int(input(\"Enter the starting number: \"))\n",
        "end = int(input(\"Enter the ending number: \"))\n",
        "\n",
        "if start<end:\n",
        "  for num in range(start, end+1):\n",
        "    print(num, end=\" \")\n",
        "else:\n",
        "  print(\"Invalid input\")"
      ],
      "metadata": {
        "colab": {
          "base_uri": "https://localhost:8080/"
        },
        "id": "1SSTTRqIKS2F",
        "outputId": "2227b522-e6f1-46ad-9db7-b7820ba976b5"
      },
      "execution_count": null,
      "outputs": [
        {
          "output_type": "stream",
          "name": "stdout",
          "text": [
            "Enter the starting number: 1\n",
            "Enter the ending number: 7\n",
            "1 2 3 4 5 6 7 "
          ]
        }
      ]
    },
    {
      "cell_type": "code",
      "source": [
        "a = [[1,2],\n",
        "     [3,4]]\n",
        "b = [[5,6],\n",
        "     [7,8]]\n",
        "\n",
        "result = [[0,0],\n",
        "          [0,0]]\n"
      ],
      "metadata": {
        "id": "YveFRD50LpBA"
      },
      "execution_count": null,
      "outputs": []
    }
  ]
}