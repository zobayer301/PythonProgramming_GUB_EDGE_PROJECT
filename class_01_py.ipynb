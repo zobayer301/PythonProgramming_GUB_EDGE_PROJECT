{
  "nbformat": 4,
  "nbformat_minor": 0,
  "metadata": {
    "colab": {
      "provenance": [],
      "authorship_tag": "ABX9TyNIRd7ENerbgzr6XNAY7unb",
      "include_colab_link": true
    },
    "kernelspec": {
      "name": "python3",
      "display_name": "Python 3"
    },
    "language_info": {
      "name": "python"
    }
  },
  "cells": [
    {
      "cell_type": "markdown",
      "metadata": {
        "id": "view-in-github",
        "colab_type": "text"
      },
      "source": [
        "<a href=\"https://colab.research.google.com/github/zobayer301/apnacollege/blob/main/class_01_py.ipynb\" target=\"_parent\"><img src=\"https://colab.research.google.com/assets/colab-badge.svg\" alt=\"Open In Colab\"/></a>"
      ]
    },
    {
      "cell_type": "code",
      "execution_count": null,
      "metadata": {
        "colab": {
          "base_uri": "https://localhost:8080/"
        },
        "id": "uN5qN3zEDGDe",
        "outputId": "e8fc615e-36e8-406b-af06-d65f770ae4e8"
      },
      "outputs": [
        {
          "output_type": "stream",
          "name": "stdout",
          "text": [
            "Hello\n"
          ]
        }
      ],
      "source": [
        "# prompt: add two numbers and print in python\n",
        "\n",
        "num1 = 10\n",
        "num2 = 5\n",
        "\n",
        "sum = num1 + num2\n",
        "\n",
        "print(\"The sum of\", num1, \"and\", num2, \"is:\", sum)"
      ]
    },
    {
      "cell_type": "code",
      "source": [
        "num1 = input(\"Enter first number:\")\n",
        "num2 = input(\"Enter second number:\")\n",
        "\n",
        "sum = float(num1) + float(num2)\n",
        "\n",
        "print(\"The sum of\", num1, \"and\", num2, \"is:\", sum)\n"
      ],
      "metadata": {
        "colab": {
          "base_uri": "https://localhost:8080/"
        },
        "id": "8DZE7CA9OUkf",
        "outputId": "b7c16acd-7ee8-405e-d5b9-7ceafefa87b3"
      },
      "execution_count": null,
      "outputs": [
        {
          "output_type": "stream",
          "name": "stdout",
          "text": [
            "Enter first number:4\n",
            "Enter second number:5\n",
            "The sum of 4 and 5 is: 9.0\n"
          ]
        }
      ]
    },
    {
      "cell_type": "code",
      "source": [
        "# prompt: write a python code where add two complex numbers\n",
        "\n",
        "def add_complex_numbers(z1, z2):\n",
        "  \"\"\"Adds two complex numbers.\n",
        "\n",
        "  Args:\n",
        "    z1: The first complex number, represented as a tuple (real, imag).\n",
        "    z2: The second complex number, represented as a tuple (real, imag).\n",
        "\n",
        "  Returns:\n",
        "    The sum of the two complex numbers, represented as a tuple (real, imag).\n",
        "  \"\"\"\n",
        "  real_part = z1[0] + z2[0]\n",
        "  imaginary_part = z1[1] + z2[1]\n",
        "  return (real_part, imaginary_part)\n",
        "\n",
        "# Example usage:\n",
        "z1 = (3, 2)  # Represents 3 + 2i\n",
        "z2 = (1, -4) # Represents 1 - 4i\n",
        "\n",
        "sum_z = add_complex_numbers(z1, z2)\n",
        "print(\"The sum of\", z1, \"and\", z2, \"is:\", sum_z)"
      ],
      "metadata": {
        "colab": {
          "base_uri": "https://localhost:8080/"
        },
        "id": "8HZidlDJTfdL",
        "outputId": "3a98fd9b-784e-4842-96e4-c62cba3816e6"
      },
      "execution_count": null,
      "outputs": [
        {
          "output_type": "stream",
          "name": "stdout",
          "text": [
            "The sum of (3, 2) and (1, -4) is: (4, -2)\n"
          ]
        }
      ]
    }
  ]
}