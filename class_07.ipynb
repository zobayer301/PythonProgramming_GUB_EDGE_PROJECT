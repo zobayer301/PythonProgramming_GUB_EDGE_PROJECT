{
  "nbformat": 4,
  "nbformat_minor": 0,
  "metadata": {
    "colab": {
      "provenance": [],
      "authorship_tag": "ABX9TyOHTddN4s4iTKxyr8zZiBz/",
      "include_colab_link": true
    },
    "kernelspec": {
      "name": "python3",
      "display_name": "Python 3"
    },
    "language_info": {
      "name": "python"
    }
  },
  "cells": [
    {
      "cell_type": "markdown",
      "metadata": {
        "id": "view-in-github",
        "colab_type": "text"
      },
      "source": [
        "<a href=\"https://colab.research.google.com/github/zobayer301/PythonProgramming_GUB_EDGE_PROJECT/blob/main/class_07.ipynb\" target=\"_parent\"><img src=\"https://colab.research.google.com/assets/colab-badge.svg\" alt=\"Open In Colab\"/></a>"
      ]
    },
    {
      "cell_type": "code",
      "execution_count": null,
      "metadata": {
        "id": "JuT79WtyM030",
        "colab": {
          "base_uri": "https://localhost:8080/"
        },
        "outputId": "b297a2e5-53c3-43f1-a305-a472a091ce32"
      },
      "outputs": [
        {
          "output_type": "stream",
          "name": "stdout",
          "text": [
            "['Python', 'C++', 'JavaScript', 'C', 'Java', 'HTML']\n"
          ]
        }
      ],
      "source": [
        "language = ['Python','C++', 'JavaScript', 'C', 'Java', 'HTML']\n",
        "language[3]\n",
        "language[-1]\n",
        "print(language)"
      ]
    },
    {
      "cell_type": "code",
      "source": [
        "lst1 = [1,2,2,3,5,4,6]\n",
        "lst2 = [\"Red\", \"Green\", \"Blue\"]\n",
        "print(lst1)\n",
        "print(lst2)"
      ],
      "metadata": {
        "colab": {
          "base_uri": "https://localhost:8080/"
        },
        "id": "wnG_BFiaPD_F",
        "outputId": "896ee70f-71a7-4e1e-f3be-7c4c66049b6d"
      },
      "execution_count": null,
      "outputs": [
        {
          "output_type": "stream",
          "name": "stdout",
          "text": [
            "[1, 2, 2, 3, 5, 4, 6]\n",
            "['Red', 'Green', 'Blue']\n"
          ]
        }
      ]
    },
    {
      "cell_type": "code",
      "source": [
        "colors = [\"Red\", \"Green\", \"Blue\", \"Yellow\", \"Green\"]\n",
        "#          [0]      [1]     [2]      [3]      [4]"
      ],
      "metadata": {
        "id": "9STw5n6vPFkm"
      },
      "execution_count": null,
      "outputs": []
    },
    {
      "cell_type": "code",
      "source": [
        "colors = [\"Red\", \"Green\", \"Blue\", \"Yellow\", \"Green\"]\n",
        "#          [0]      [1]     [2]      [3]      [4]\n",
        "print(colors[2])\n",
        "print(colors[4])\n",
        "print(colors[0])"
      ],
      "metadata": {
        "colab": {
          "base_uri": "https://localhost:8080/"
        },
        "id": "NSkNOmFrPZmf",
        "outputId": "e7f1e91f-18fd-4f90-916e-704dc23738ed"
      },
      "execution_count": null,
      "outputs": [
        {
          "output_type": "stream",
          "name": "stdout",
          "text": [
            "Blue\n",
            "Green\n",
            "Red\n"
          ]
        }
      ]
    },
    {
      "cell_type": "code",
      "source": [
        "colors = [\"Red\", \"Green\", \"Blue\", \"Yellow\", \"Green\"]\n",
        "#          [-5]    [-4]    [-3]     [-2]      [-1]\n",
        "print(colors[-1])\n",
        "print(colors[-3])\n",
        "print(colors[-5])"
      ],
      "metadata": {
        "colab": {
          "base_uri": "https://localhost:8080/"
        },
        "id": "5F8Pb1LVPdMm",
        "outputId": "07cd43aa-c895-4e9b-f8ea-9fcd89ec561e"
      },
      "execution_count": null,
      "outputs": [
        {
          "output_type": "stream",
          "name": "stdout",
          "text": [
            "Green\n",
            "Blue\n",
            "Red\n"
          ]
        }
      ]
    },
    {
      "cell_type": "markdown",
      "source": [
        "write a python program to get 5 students Name from user and store list, display all the students Name with Uppercase letters"
      ],
      "metadata": {
        "id": "tjmxHRvtQetf"
      }
    },
    {
      "cell_type": "code",
      "source": [
        "students = []\n",
        "for i in range(5):\n",
        "  name = input(f\"Enter the name of student {i+1}: \")\n",
        "  students.append(name)\n",
        "\n",
        "for name in students:\n",
        "  print(name.upper())"
      ],
      "metadata": {
        "colab": {
          "base_uri": "https://localhost:8080/"
        },
        "id": "dCKwV0gZQzl5",
        "outputId": "13830da0-4a2e-44d6-bbab-4d61b67e9337"
      },
      "execution_count": null,
      "outputs": [
        {
          "output_type": "stream",
          "name": "stdout",
          "text": [
            "Enter the name of student 1: Zobayer\n",
            "Enter the name of student 2: Istiak\n",
            "Enter the name of student 3: Ruhin\n",
            "Enter the name of student 4: Mustak\n",
            "Enter the name of student 5: Fattah\n",
            "ZOBAYER\n",
            "ISTIAK\n",
            "RUHIN\n",
            "MUSTAK\n",
            "FATTAH\n"
          ]
        }
      ]
    },
    {
      "cell_type": "markdown",
      "source": [
        "write a python program to get 10 numbers from user, store in list, and display only odd numbers getting from the list"
      ],
      "metadata": {
        "id": "WjF1aSltR0r6"
      }
    },
    {
      "cell_type": "code",
      "source": [
        "numbers = []\n",
        "for i in range(10):\n",
        "    num = int(input(f\"Enter number {i+1}: \"))\n",
        "    numbers.append(num)\n",
        "print(\"Odd numbers from the list:\")\n",
        "for num in numbers:\n",
        "    if num % 2 != 0:\n",
        "        print(num)\n"
      ],
      "metadata": {
        "colab": {
          "base_uri": "https://localhost:8080/"
        },
        "id": "U_Wiu71bcT5e",
        "outputId": "585ddfa9-10c1-4f9b-dd9d-b629447f5200"
      },
      "execution_count": null,
      "outputs": [
        {
          "output_type": "stream",
          "name": "stdout",
          "text": [
            "Enter number 1: 6\n",
            "Enter number 2: 5\n",
            "Enter number 3: 4\n",
            "Enter number 4: 3\n",
            "Enter number 5: 2\n",
            "Enter number 6: 1\n",
            "Enter number 7: 9\n",
            "Enter number 8: 8\n",
            "Enter number 9: 7\n",
            "Enter number 10: 5\n",
            "Odd numbers from the list:\n",
            "5\n",
            "3\n",
            "1\n",
            "9\n",
            "7\n",
            "5\n"
          ]
        }
      ]
    },
    {
      "cell_type": "markdown",
      "source": [],
      "metadata": {
        "id": "IlicaKE3dkcl"
      }
    },
    {
      "cell_type": "code",
      "source": [
        "#without comprehension\n",
        "colors = [\"Red\", \"Green\", \"Blue\", \"Yellow\", \"Green\"]\n",
        "newColor = []\n",
        "for i in colors:\n",
        "    if \"e\" in i:\n",
        "     newColor.append(i)\n",
        "print(newColor)"
      ],
      "metadata": {
        "colab": {
          "base_uri": "https://localhost:8080/"
        },
        "id": "NCES5zyPfFIs",
        "outputId": "1b97ac15-fd6c-4867-cf45-d0d4ffc142cb"
      },
      "execution_count": null,
      "outputs": [
        {
          "output_type": "stream",
          "name": "stdout",
          "text": [
            "['Red', 'Green', 'Blue', 'Yellow', 'Green']\n"
          ]
        }
      ]
    },
    {
      "cell_type": "code",
      "source": [
        "#with comprehension\n",
        "colors = [\"Red\", \"Green\", \"Blue\", \"Yellow\", \"Green\"]\n",
        "newcolor = [i for i in colors if \"e\" in i]\n",
        "print(newcolor)"
      ],
      "metadata": {
        "colab": {
          "base_uri": "https://localhost:8080/"
        },
        "id": "_kiR4vuxfiva",
        "outputId": "6ba95015-0b3f-423c-da9f-b300461da6f1"
      },
      "execution_count": null,
      "outputs": [
        {
          "output_type": "stream",
          "name": "stdout",
          "text": [
            "['Red', 'Green', 'Blue', 'Yellow', 'Green']\n"
          ]
        }
      ]
    },
    {
      "cell_type": "code",
      "source": [
        "ist = [4,3,2, 1,3,4,5]\n",
        "ist.sort()\n",
        "print(ist)"
      ],
      "metadata": {
        "colab": {
          "base_uri": "https://localhost:8080/"
        },
        "id": "OTp0LE-Dkfi-",
        "outputId": "c01c4f9d-cf02-4f2f-b1c3-518d7a56d726"
      },
      "execution_count": null,
      "outputs": [
        {
          "output_type": "stream",
          "name": "stdout",
          "text": [
            "[1, 2, 3, 3, 4, 4, 5]\n"
          ]
        }
      ]
    },
    {
      "cell_type": "code",
      "source": [
        "ist = [4,3,2, 1,3,4,5]\n",
        "ist.sort(reverse = True)\n",
        "print(ist)"
      ],
      "metadata": {
        "colab": {
          "base_uri": "https://localhost:8080/"
        },
        "id": "phmR6y3NlS4g",
        "outputId": "57f57fc4-5a40-4a0e-91d9-f8ef19b55437"
      },
      "execution_count": null,
      "outputs": [
        {
          "output_type": "stream",
          "name": "stdout",
          "text": [
            "[5, 4, 4, 3, 3, 2, 1]\n"
          ]
        }
      ]
    },
    {
      "cell_type": "code",
      "source": [
        "ist = ['Python', 'C++', 'JavaScript', 'C', 'Java', 'HTML']\n",
        "ist.insert(0,'css')\n",
        "print(ist)"
      ],
      "metadata": {
        "colab": {
          "base_uri": "https://localhost:8080/"
        },
        "id": "ehsjs44HltsY",
        "outputId": "75b8c2c8-7e47-4abc-a6c7-b89645d39058"
      },
      "execution_count": null,
      "outputs": [
        {
          "output_type": "stream",
          "name": "stdout",
          "text": [
            "['css', 'Python', 'C++', 'JavaScript', 'C', 'Java', 'HTML']\n"
          ]
        }
      ]
    }
  ]
}