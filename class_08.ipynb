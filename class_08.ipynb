{
  "nbformat": 4,
  "nbformat_minor": 0,
  "metadata": {
    "colab": {
      "provenance": [],
      "authorship_tag": "ABX9TyOsDLyd1oxdq/qBTBfG63lK",
      "include_colab_link": true
    },
    "kernelspec": {
      "name": "python3",
      "display_name": "Python 3"
    },
    "language_info": {
      "name": "python"
    }
  },
  "cells": [
    {
      "cell_type": "markdown",
      "metadata": {
        "id": "view-in-github",
        "colab_type": "text"
      },
      "source": [
        "<a href=\"https://colab.research.google.com/github/zobayer301/PythonProgramming_GUB_EDGE_PROJECT/blob/main/class_08.ipynb\" target=\"_parent\"><img src=\"https://colab.research.google.com/assets/colab-badge.svg\" alt=\"Open In Colab\"/></a>"
      ]
    },
    {
      "cell_type": "code",
      "execution_count": null,
      "metadata": {
        "id": "hGIgIukj5xpT",
        "colab": {
          "base_uri": "https://localhost:8080/"
        },
        "outputId": "024d6670-46e9-438e-b599-728a64af2354"
      },
      "outputs": [
        {
          "output_type": "stream",
          "name": "stdout",
          "text": [
            "('Audi', 'bmw', 'Marcedes')\n",
            "Audi\n",
            "bmw\n",
            "Marcedes\n"
          ]
        }
      ],
      "source": [
        "cars = ('Audi', 'bmw', 'Marcedes')\n",
        "print(cars)\n",
        "print(cars[0])\n",
        "print(cars[1])\n",
        "print(cars[2])\n"
      ]
    },
    {
      "cell_type": "code",
      "execution_count": null,
      "metadata": {
        "colab": {
          "base_uri": "https://localhost:8080/"
        },
        "outputId": "ae98c9ee-8bc0-4096-f8de-7b66c880bb8a",
        "id": "P89jmZXC8nlo"
      },
      "outputs": [
        {
          "output_type": "stream",
          "name": "stdout",
          "text": [
            "Audi\n",
            "A\n",
            "u\n",
            "d\n"
          ]
        }
      ],
      "source": [
        "cars = ('Audi')\n",
        "print(cars)\n",
        "print(cars[0])\n",
        "print(cars[1])\n",
        "print(cars[2])\n"
      ]
    },
    {
      "cell_type": "markdown",
      "source": [
        "tuple constructor\n"
      ],
      "metadata": {
        "id": "kC0Cv9fn933s"
      }
    },
    {
      "cell_type": "code",
      "source": [
        "cars = tuple(('Audi','bmw','Marcedes'))\n",
        "print(cars)\n"
      ],
      "metadata": {
        "colab": {
          "base_uri": "https://localhost:8080/"
        },
        "id": "VK1rqCT39X24",
        "outputId": "077ca61b-6d4d-41b1-9756-6206fc8ac5d2"
      },
      "execution_count": null,
      "outputs": [
        {
          "output_type": "stream",
          "name": "stdout",
          "text": [
            "('Audi', 'bmw', 'Marcedes')\n"
          ]
        }
      ]
    },
    {
      "cell_type": "markdown",
      "source": [
        "convert into list"
      ],
      "metadata": {
        "id": "14SBDRzAAUod"
      }
    },
    {
      "cell_type": "code",
      "source": [
        "cars = tuple(('Audi','bmw','marcedes'))\n",
        "temp = list(cars)\n",
        "temp.append('toyota')\n",
        "cars = tuple(temp)\n",
        "print(cars)\n",
        "\n"
      ],
      "metadata": {
        "colab": {
          "base_uri": "https://localhost:8080/"
        },
        "id": "2sKiM6-X-lhK",
        "outputId": "c6697a07-8798-4d0c-a32c-c12bd6bd16e2"
      },
      "execution_count": null,
      "outputs": [
        {
          "output_type": "stream",
          "name": "stdout",
          "text": [
            "('Audi', 'bmw', 'marcedes', 'toyota')\n"
          ]
        }
      ]
    },
    {
      "cell_type": "markdown",
      "source": [
        "update tuple"
      ],
      "metadata": {
        "id": "tqaEyUYeAP_j"
      }
    },
    {
      "cell_type": "code",
      "source": [
        "cars = tuple(('Audi','bmw','marcedes'))\n",
        "temp = list(cars)\n",
        "temp.append('toyota')\n",
        "temp[1] = 'van'\n",
        "cars = tuple(temp)\n",
        "print(cars)"
      ],
      "metadata": {
        "colab": {
          "base_uri": "https://localhost:8080/"
        },
        "id": "AXWDIyFa_3Hp",
        "outputId": "57bbc371-5239-4a0c-da2f-e97fc7bfc59f"
      },
      "execution_count": null,
      "outputs": [
        {
          "output_type": "stream",
          "name": "stdout",
          "text": [
            "('Audi', 'van', 'marcedes', 'toyota')\n"
          ]
        }
      ]
    },
    {
      "cell_type": "markdown",
      "source": [
        "remove tuple"
      ],
      "metadata": {
        "id": "6NbO6_15AeYO"
      }
    },
    {
      "cell_type": "code",
      "source": [
        "cars = tuple(('Audi','bmw','marcedes'))\n",
        "temp = list(cars)\n",
        "temp.append('toyota')\n",
        "temp[1] = 'van'\n",
        "temp.remove('marcedes')\n",
        "cars = tuple(temp)\n",
        "print(cars)\n",
        "\n"
      ],
      "metadata": {
        "colab": {
          "base_uri": "https://localhost:8080/"
        },
        "id": "fxD5ev7pArrf",
        "outputId": "964f0ab0-9e45-484c-a71f-d0d756c5044d"
      },
      "execution_count": null,
      "outputs": [
        {
          "output_type": "stream",
          "name": "stdout",
          "text": [
            "('Audi', 'van', 'toyota')\n"
          ]
        }
      ]
    },
    {
      "cell_type": "markdown",
      "source": [
        "unpacking a tuple"
      ],
      "metadata": {
        "id": "tXn6z7SwObNH"
      }
    },
    {
      "cell_type": "code",
      "source": [
        "cars = ('Audi','bmw','marcedes')\n",
        "car1, car2, car3 = cars\n",
        "print(car1)\n",
        "print(car2)\n",
        "print(car3)"
      ],
      "metadata": {
        "colab": {
          "base_uri": "https://localhost:8080/"
        },
        "id": "RA1rzNU4OfXg",
        "outputId": "b0f53f84-c929-43aa-ea84-162c07451cf2"
      },
      "execution_count": null,
      "outputs": [
        {
          "output_type": "stream",
          "name": "stdout",
          "text": [
            "Audi\n",
            "bmw\n",
            "marcedes\n"
          ]
        }
      ]
    },
    {
      "cell_type": "markdown",
      "source": [
        "dict key value pair"
      ],
      "metadata": {
        "id": "8IKnitQDQ_6e"
      }
    },
    {
      "cell_type": "code",
      "source": [
        "std  = {'s_id': 1, 's_name': 'Zobayer', 's_dept': 'Python'}\n",
        "print(std)"
      ],
      "metadata": {
        "colab": {
          "base_uri": "https://localhost:8080/"
        },
        "id": "OjdqtBgVRD5h",
        "outputId": "f14987a8-f562-4813-f17b-672ec98bb404"
      },
      "execution_count": null,
      "outputs": [
        {
          "output_type": "stream",
          "name": "stdout",
          "text": [
            "{'s_id': 1, 's_name': 'Zobayer', 's_dept': 'Python'}\n"
          ]
        }
      ]
    },
    {
      "cell_type": "markdown",
      "source": [
        "loop with dict"
      ],
      "metadata": {
        "id": "5obnqD4kS2xy"
      }
    },
    {
      "cell_type": "code",
      "source": [
        "a = {'a':4, 'b':1, 'c': 6, 'd': 2, 'e':3}\n",
        "for key, value in a.items():\n",
        "  print(key, \":\", value)\n"
      ],
      "metadata": {
        "colab": {
          "base_uri": "https://localhost:8080/"
        },
        "id": "mVG7440WS8V8",
        "outputId": "518d0981-3598-415f-a17c-ff83186969e6"
      },
      "execution_count": null,
      "outputs": [
        {
          "output_type": "stream",
          "name": "stdout",
          "text": [
            "a : 4\n",
            "b : 1\n",
            "c : 6\n",
            "d : 2\n",
            "e : 3\n"
          ]
        }
      ]
    },
    {
      "cell_type": "code",
      "source": [
        "student_marks = {}\n",
        "for i in range(5):\n",
        "    student_name = input(f\"Enter student {i+1} name: \")\n",
        "    marks = float(input(f\"Enter marks for {student_name}: \"))\n",
        "    student_marks[student_name] = marks\n",
        "print(\"\\nStudent Names and their Marks:\")\n",
        "for name, marks in student_marks.items():\n",
        "    print(f\"{name}: {marks}\")"
      ],
      "metadata": {
        "colab": {
          "base_uri": "https://localhost:8080/"
        },
        "id": "ItKRldaTWXtL",
        "outputId": "a4492be8-216f-471f-ac76-92bbf043a121"
      },
      "execution_count": null,
      "outputs": [
        {
          "output_type": "stream",
          "name": "stdout",
          "text": [
            "Enter student 1 name: Zobayer\n",
            "Enter marks for Zobayer: 2\n",
            "Enter student 2 name: Istiak\n",
            "Enter marks for Istiak: 5\n",
            "Enter student 3 name: Newaz\n",
            "Enter marks for Newaz: 6\n",
            "Enter student 4 name: ZOba\n",
            "Enter marks for ZOba: 8\n",
            "Enter student 5 name: Yer\n",
            "Enter marks for Yer: 6\n",
            "\n",
            "Student Names and their Marks:\n",
            "Zobayer: 2.0\n",
            "Istiak: 5.0\n",
            "Newaz: 6.0\n",
            "ZOba: 8.0\n",
            "Yer: 6.0\n"
          ]
        }
      ]
    }
  ]
}