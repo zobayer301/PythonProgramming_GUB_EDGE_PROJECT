{
  "nbformat": 4,
  "nbformat_minor": 0,
  "metadata": {
    "colab": {
      "provenance": [],
      "authorship_tag": "ABX9TyOAMPi+pdRxhMI7sIIOfIMP",
      "include_colab_link": true
    },
    "kernelspec": {
      "name": "python3",
      "display_name": "Python 3"
    },
    "language_info": {
      "name": "python"
    }
  },
  "cells": [
    {
      "cell_type": "markdown",
      "metadata": {
        "id": "view-in-github",
        "colab_type": "text"
      },
      "source": [
        "<a href=\"https://colab.research.google.com/github/zobayer301/PythonProgramming_GUB_EDGE_PROJECT/blob/main/class_09.ipynb\" target=\"_parent\"><img src=\"https://colab.research.google.com/assets/colab-badge.svg\" alt=\"Open In Colab\"/></a>"
      ]
    },
    {
      "cell_type": "code",
      "execution_count": null,
      "metadata": {
        "id": "1PkLOVFvIat1",
        "colab": {
          "base_uri": "https://localhost:8080/"
        },
        "outputId": "0ad896d8-cb6f-4d90-8d76-5a56a848bf14"
      },
      "outputs": [
        {
          "output_type": "stream",
          "name": "stdout",
          "text": [
            "{3, 4, 5, 6, 7, 9}\n"
          ]
        }
      ],
      "source": [
        "num = {3,4,5,6,7,}\n",
        "num.add(9)\n",
        "print(num)"
      ]
    },
    {
      "cell_type": "code",
      "source": [
        "a = {3,5,6}\n",
        "b = {5,2,7}\n",
        "c = a.intersection(b)\n",
        "print(c)"
      ],
      "metadata": {
        "colab": {
          "base_uri": "https://localhost:8080/"
        },
        "id": "gxD6yohaPcQ6",
        "outputId": "d6f7161e-56a5-4d13-96cc-a95e0a0900e8"
      },
      "execution_count": null,
      "outputs": [
        {
          "output_type": "stream",
          "name": "stdout",
          "text": [
            "{5}\n"
          ]
        }
      ]
    },
    {
      "cell_type": "code",
      "source": [
        "my_set = set()\n",
        "\n",
        "for i in range(5):\n",
        "    item = input(f\"Enter item {i+1}: \")\n",
        "    my_set.add(item)\n",
        "\n",
        "print(\"\\nItems in lowercase:\")\n",
        "for item in my_set:\n",
        "    print(item.lower())\n",
        "\n",
        "print(\"\\nItems in uppercase:\")\n",
        "for item in my_set:\n",
        "    print(item.upper())"
      ],
      "metadata": {
        "id": "c83EFgMWP3dZ"
      },
      "execution_count": null,
      "outputs": []
    },
    {
      "cell_type": "code",
      "source": [
        "mySet = set()\n",
        "for i in range(5):\n",
        "    item = input(f\"Enter item {i+1}: \")\n",
        "    mySet.update(item)\n",
        "    print(item)"
      ],
      "metadata": {
        "id": "dtUnJr5wQ_HH"
      },
      "execution_count": null,
      "outputs": []
    },
    {
      "cell_type": "code",
      "source": [],
      "metadata": {
        "id": "InO12ddXhlqv"
      },
      "execution_count": null,
      "outputs": []
    },
    {
      "cell_type": "code",
      "source": [
        "cities = {\"Tokyo\", \"Madrid\", \"Berlin\", \"Delhi\"}\n",
        "cities.remove(\"Tokyo\")\n",
        "print(cities)"
      ],
      "metadata": {
        "id": "Ba8REDAmTaCU"
      },
      "execution_count": null,
      "outputs": []
    }
  ]
}