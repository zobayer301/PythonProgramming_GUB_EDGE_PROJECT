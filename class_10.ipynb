{
  "nbformat": 4,
  "nbformat_minor": 0,
  "metadata": {
    "colab": {
      "provenance": [],
      "authorship_tag": "ABX9TyN/OiFy00Tz4YO0tRJH5U+8",
      "include_colab_link": true
    },
    "kernelspec": {
      "name": "python3",
      "display_name": "Python 3"
    },
    "language_info": {
      "name": "python"
    }
  },
  "cells": [
    {
      "cell_type": "markdown",
      "metadata": {
        "id": "view-in-github",
        "colab_type": "text"
      },
      "source": [
        "<a href=\"https://colab.research.google.com/github/zobayer301/PythonProgramming_GUB_EDGE_PROJECT/blob/main/class_10.ipynb\" target=\"_parent\"><img src=\"https://colab.research.google.com/assets/colab-badge.svg\" alt=\"Open In Colab\"/></a>"
      ]
    },
    {
      "cell_type": "code",
      "execution_count": null,
      "metadata": {
        "colab": {
          "base_uri": "https://localhost:8080/"
        },
        "id": "5Yz8X9qy8cM5",
        "outputId": "dc69747d-4213-439c-af78-c104a2869a21"
      },
      "outputs": [
        {
          "output_type": "stream",
          "name": "stdout",
          "text": [
            "Enter any sentence: make money\n",
            "Total characters with spaces: 10\n",
            "Total characters without spaces: 9\n"
          ]
        }
      ],
      "source": [
        "sentence = input(\"Enter any sentence: \")\n",
        "withSpace = len(sentence)\n",
        "withoutSpace = len(sentence.replace(\" \", \"\"))\n",
        "print(f\"Total characters with spaces: {withSpace}\")\n",
        "print(f\"Total characters without spaces: {withoutSpace}\")"
      ]
    },
    {
      "cell_type": "code",
      "source": [
        "numbers = [10, 23, 44, 57, 68, 89, 90, 101]\n",
        "for num in numbers:\n",
        "    if num % 2 == 0:\n",
        "        print(f\"{num} is Even\")\n",
        "    else:\n",
        "        print(f\"{num} is Odd\")\n"
      ],
      "metadata": {
        "colab": {
          "base_uri": "https://localhost:8080/"
        },
        "id": "UUNUtLXP-Tco",
        "outputId": "29fc7222-34f5-4a44-918d-e9f6b4a5748e"
      },
      "execution_count": null,
      "outputs": [
        {
          "output_type": "stream",
          "name": "stdout",
          "text": [
            "10 is Even\n",
            "23 is Odd\n",
            "44 is Even\n",
            "57 is Odd\n",
            "68 is Even\n",
            "89 is Odd\n",
            "90 is Even\n",
            "101 is Odd\n"
          ]
        }
      ]
    },
    {
      "cell_type": "code",
      "source": [
        "import math\n",
        "numbers = [10, 23, 44, 57, 68, 89, 90, 101]\n",
        "minNum = min(numbers)\n",
        "maxNum = max(numbers)\n",
        "multiplicationResult = minNum* maxNum\n",
        "squareRoot = math.sqrt(multiplicationResult)\n",
        "print(\"Minimum Number:\", minNum)\n",
        "print(\"Maximum Number:\", maxNum)\n",
        "print(\"Multiplication of Min and Max:\", multiplicationResult)\n",
        "print(\"Square Root of the Multiplication Result:\", squareRoot)"
      ],
      "metadata": {
        "colab": {
          "base_uri": "https://localhost:8080/"
        },
        "id": "iMKpbkVOAd75",
        "outputId": "b5afa652-89ef-4f9f-d7ee-acf4416c4a20"
      },
      "execution_count": null,
      "outputs": [
        {
          "output_type": "stream",
          "name": "stdout",
          "text": [
            "Minimum Number: 10\n",
            "Maximum Number: 101\n",
            "Multiplication of Min and Max: 1010\n",
            "Square Root of the Multiplication Result: 31.78049716414141\n"
          ]
        }
      ]
    },
    {
      "cell_type": "code",
      "source": [
        "dictLst = {1: \"apple\", 2: \"banana\", 3: \"cherry\", 4: \"date\"}\n",
        "\n",
        "squaredDict = {}\n",
        "for key, value in dictLst.items():\n",
        "    if isinstance(key, int):\n",
        "        squaredDict[key**2] = value\n",
        "print(\"Original Dictionary:\", dictLst)\n",
        "print(\"New Dictionary with Squared Keys:\", squaredDict)\n"
      ],
      "metadata": {
        "colab": {
          "base_uri": "https://localhost:8080/"
        },
        "id": "uSQttgY0C3Pe",
        "outputId": "8f3d3a1c-e9b9-49e0-9e21-f552b165d892"
      },
      "execution_count": null,
      "outputs": [
        {
          "output_type": "stream",
          "name": "stdout",
          "text": [
            "Original Dictionary: {1: 'apple', 2: 'banana', 3: 'cherry', 4: 'date'}\n",
            "New Dictionary with Squared Keys: {1: 'apple', 4: 'banana', 9: 'cherry', 16: 'date'}\n"
          ]
        }
      ]
    },
    {
      "cell_type": "code",
      "source": [
        "import math\n",
        "x = int(input(\"Enter a number: \"))\n",
        "y = 2*x\n",
        "print(x,y)\n"
      ],
      "metadata": {
        "colab": {
          "base_uri": "https://localhost:8080/"
        },
        "id": "ALdQWZoDVzAC",
        "outputId": "001c7809-507c-48c1-acb7-e33d5a9c28f7"
      },
      "execution_count": null,
      "outputs": [
        {
          "output_type": "stream",
          "name": "stdout",
          "text": [
            "Enter a number: 3\n",
            "3 6\n"
          ]
        }
      ]
    }
  ]
}